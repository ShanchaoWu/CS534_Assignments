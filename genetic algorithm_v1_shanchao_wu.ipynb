{
 "cells": [
  {
   "cell_type": "code",
   "execution_count": 2,
   "id": "01bc8640-9841-4e85-babc-b10b6ed774ac",
   "metadata": {},
   "outputs": [],
   "source": [
    "import numpy as np\n",
    "import random\n",
    "import pandas as pd\n",
    "from numpy import savetxt, loadtxt\n",
    "import time\n",
    "import math\n",
    "\n",
    "class HeavyQueen9N8:\n",
    "    def __init__(self, chess_dim=8, file_name = None):\n",
    "        self.dim = chess_dim\n",
    "        self.file_name = file_name\n",
    "        self.chess_board = np.zeros((self.dim, self.dim)).astype(int)\n",
    "\n",
    "    def init_board(self):\n",
    "        if self.file_name == None:\n",
    "            for i in range(self.dim):\n",
    "                self.chess_board[random.randint(0, self.dim-1), i] = random.randint(1, 9)\n",
    "            flag = 1\n",
    "            while(flag):\n",
    "                col = random.randint(0, self.dim-1)\n",
    "                row = random.randint(0, self.dim-1)\n",
    "                if self.chess_board[row, col] == 0:\n",
    "                    self.chess_board[row, col] = random.randint(1,9)\n",
    "                    flag = 0\n",
    "            savetxt('test.txt', self.chess_board, delimiter=',')\n",
    "            return self.chess_board\n",
    "        else:\n",
    "            self.__loadboard()\n",
    "            return self.chess_board\n",
    "\n",
    "    def __loadboard(self):\n",
    "        load_mtx = loadtxt(self.file_name, delimiter=',').astype(int)\n",
    "        self.n = len(load_mtx)\n",
    "        self.chess_board = load_mtx\n",
    "        print('loaded')\n",
    "        return load_mtx\n",
    "\n",
    "    def test(self):\n",
    "        print(self.n)\n",
    "        pass"
   ]
  },
  {
   "cell_type": "code",
   "execution_count": 1,
   "id": "799c1768-826c-4729-8fd6-6201d3f3285d",
   "metadata": {},
   "outputs": [],
   "source": [
    "class genetic_algo:\n",
    "    def __init__(self, board, population = 100, crossover = 3, mutate = 0.1, time = 0, eli_num = 10, cul_num = 20, max_gen = 100):\n",
    "        self.generationNum = 0 # indicate which generation is now, initial = 0\n",
    "        self.population = list() # population in each generation\n",
    "        self.pValue = population # num of population in each generation, setted by user, default 100 population/generation\n",
    "        self.cost_list = list() # cost of each population\n",
    "        self.crossover = crossover # in which postion to crossover, default colume 3\n",
    "        self.mutate = mutate # the chance of mutation, default 10%\n",
    "        self.initial_board = board # initial board, need to input\n",
    "        self.init_col_list = list(np.nonzero(board.T)[0])\n",
    "        self.init_row_list = list(np.nonzero(board.T)[1])\n",
    "        self.weight_list = list() # weight of each queen\n",
    "        self.dim = len(board) # get dim of board\n",
    "        self.duration = time # set how much time to run the algorithm\n",
    "        self.queen_num = len(self.init_col_list)\n",
    "        self.prob_list = list() # probability of each population\n",
    "        self.eli_num = eli_num # number of boards to be preserved in elitism, default 10\n",
    "        self.cul_num = cul_num # number of boards to be deleted in culling, default 20\n",
    "        self.next_population_list = list() # collectting generated population\n",
    "        self.max_generation = max_gen # max num of generating, default 100\n",
    "        self.max_time = time # max seconds of time to run, default 0 means not set\n",
    "        self.min_cost_list = list() # a list of minimal cost in each generation\n",
    "        self.min_pop_list = list() # a list of minimal board in each generation\n",
    "        \n",
    "    def attack_cost(self, row_list):  # calculate the cost of queens' attacks\n",
    "        count = 0\n",
    "        pos_row = row_list\n",
    "        pos_col = self.init_col_list\n",
    "        for i in range(len(pos_col)):\n",
    "            row = pos_row[i]\n",
    "            col = pos_col[i]\n",
    "            # cal right\n",
    "            for j in range(i+1, len(pos_col)):\n",
    "                if pos_row[j] == row:\n",
    "                    count += 1\n",
    "            # cal below\n",
    "            for j in range(i+1, len(pos_col)):\n",
    "                if pos_col[j] == col:\n",
    "                    count += 1\n",
    "            # cal right-below\n",
    "            for j in range(i+1, len(pos_col)):\n",
    "                col_next = pos_col[j]\n",
    "                row_next = pos_row[j]\n",
    "                diff_col = col_next - col\n",
    "                if row+diff_col < self.dim:\n",
    "                    if row_next == row+diff_col:\n",
    "                        count += 1\n",
    "                else:\n",
    "                    break\n",
    "            # cal right_above\n",
    "            for j in range(i+1, len(pos_col)):\n",
    "                col_next = pos_col[j]\n",
    "                row_next = pos_row[j]\n",
    "                diff_col = col_next - col\n",
    "                if row-diff_col > 0:\n",
    "                    if row_next == row-diff_col:\n",
    "                        count += 1\n",
    "                else:\n",
    "                    break\n",
    "        return count * 100\n",
    "    \n",
    "    def init_weight_list(self): # initial the weight list\n",
    "        for i in range(len(self.init_col_list)):\n",
    "            self.weight_list.append(board[self.init_row_list[i]][self.init_col_list[i]])\n",
    "    \n",
    "    def move_cost(self, row_list): # calculate the move cost of current board with initial board\n",
    "        cost = 0\n",
    "        for i in range(len(self.init_col_list)):\n",
    "            row = self.init_row_list[i]\n",
    "            cur_row = row_list[i]\n",
    "            if row != cur_row:\n",
    "                cost = cost + math.pow(self.weight_list[i], 2) * abs(row - cur_row)\n",
    "        return cost\n",
    "    \n",
    "    def rand_change_pos(self, i, row_list): # change the (i+1)th queen position without changing input\n",
    "        row_list_new = row_list\n",
    "        row = row_list_new[i]\n",
    "        rand_row = random.randint(0, self.dim-1)\n",
    "        while rand_row == row:\n",
    "            rand_row = random.randint(0, self.dim-1)\n",
    "        row_list_new[i] = rand_row\n",
    "        return row_list_new\n",
    "\n",
    "    def init_environment(self): # randomly change 1-2 queens in their column, and get the initial populations\n",
    "        self.population.append(self.init_row_list)\n",
    "        i = 1\n",
    "        while i < self.pValue:\n",
    "            # randomly select 1-2 colume to change queens' position\n",
    "            num_q = random.randint(1,2)\n",
    "            if num_q == 1:\n",
    "                queen = random.randint(0, self.queen_num-1)\n",
    "                row_list_new = self.rand_change_pos(queen, self.init_row_list[:])\n",
    "            else:\n",
    "                queen1 = random.randint(0, self.queen_num-1)\n",
    "                queen2 = random.randint(0, self.queen_num-1)\n",
    "                while queen1 == queen2:\n",
    "                    queen2 = random.randint(0, self.queen_num-1)\n",
    "                row_list_new = self.rand_change_pos(queen1, self.init_row_list[:])\n",
    "                row_list_new = self.rand_change_pos(queen2, row_list_new)\n",
    "            if row_list_new not in self.population:\n",
    "                    i += 1\n",
    "                    self.population.append(row_list_new)\n",
    "    \n",
    "    def cal_cost_list(self): # calculate the cost list using row list in populations\n",
    "        if 0 != len(self.cost_list):\n",
    "            self.cost_list = list()\n",
    "        for i in self.population:\n",
    "            cost = 0\n",
    "            move_cost = self.move_cost(i)\n",
    "            attack_cost = self.attack_cost(i)\n",
    "            cost = move_cost + attack_cost\n",
    "            self.cost_list.append(cost)\n",
    "            \n",
    "    def cal_prob(self, cost_list): # calculate the random selecting probability of each row list in population using its cost\n",
    "        prob_list = list()\n",
    "        temp = pd.DataFrame({'cost':cost_list})\n",
    "        invert_cost_list = list(sum(temp['cost'])/temp['cost'])\n",
    "        total_invert_cost = sum(invert_cost_list)\n",
    "        for i in invert_cost_list:\n",
    "            prob = i/total_invert_cost\n",
    "            prob_list.append(prob)\n",
    "        return prob_list\n",
    "    \n",
    "    def sort_cost_pop_list(self): # sort population list according cost list in ascending order\n",
    "        data = pd.DataFrame({\"c\":self.cost_list, \"p\":self.population})\n",
    "        data_sorted = data.sort_values(by=['c'])\n",
    "        cost_sorted = list(data_sorted['c'])\n",
    "        population_sorted = list(data_sorted['p'])\n",
    "        return (cost_sorted, population_sorted)\n",
    "    \n",
    "    def elitism(self): # preserve best eli_num populations\n",
    "        cost_sorted, population_sorted = self.sort_cost_pop_list()\n",
    "        self.next_population_list.extend(population_sorted[:self.eli_num])\n",
    "        \n",
    "    def culling(self): # delete worst cul_num populations\n",
    "        cost_sorted, population_sorted = self.sort_cost_pop_list()\n",
    "        cul_population = population_sorted[:len(population_sorted) - self.cul_num]\n",
    "        cul_cost = cost_sorted[:len(population_sorted) - self.cul_num]\n",
    "        return (cul_cost, cul_population)\n",
    "    \n",
    "    def get_parent(self, prob_list, population_list): # randomly choose a population as parent\n",
    "        prob = random.random()\n",
    "        count = 0\n",
    "        par = None\n",
    "        for i in range(len(prob_list)):\n",
    "            count += prob_list[i]\n",
    "            if count >= prob:\n",
    "                par = population_list[i]\n",
    "                return par\n",
    "    \n",
    "    def cross_over(self, par1, par2): # give two populations to generate two new populations\n",
    "        child1 = list()\n",
    "        child2 = list()\n",
    "        child1 = par1[:self.crossover] + par2[self.crossover:]\n",
    "        child2 = par2[:self.crossover] + par1[self.crossover:]\n",
    "        return (child1, child2)\n",
    "        \n",
    "        \n",
    "    def mutation(self, child): # randomly mutation in child\n",
    "        if self.mutate > 0:\n",
    "            pro = random.random()\n",
    "            if pro <= self.mutate:\n",
    "                pos = random.randint(0, self.queen_num-1)\n",
    "                child = self.rand_change_pos(pos, child)\n",
    "\n",
    "    def processing(self):\n",
    "        start_time = time.time()\n",
    "        if 0 == len(self.population):\n",
    "            print(\"=====================Initializing===========================\")\n",
    "            self.init_weight_list() # initial weight list\n",
    "            self.init_environment() # initial populations\n",
    "            self.cal_cost_list() # generate cost list for elistism and culling\n",
    "        while self.generationNum < self.max_generation:\n",
    "            self.elitism() # elitism\n",
    "            cul_cost, cul_population = self.culling() # get cost and populations after culling\n",
    "            self.min_cost_list.append(cul_cost[0])\n",
    "            self.min_pop_list.append(cul_population[0])\n",
    "            prob_list = self.cal_prob(cul_cost) # calculate probability of current populations\n",
    "            while len(self.next_population_list) < self.pValue: # while population not reach setted num, generate child and put it in list\n",
    "                par1 = self.get_parent(prob_list, cul_population)\n",
    "                par2 = self.get_parent(prob_list, cul_population)\n",
    "                child1, child2 = self.cross_over(par1, par2)\n",
    "                self.mutation(child1)\n",
    "                self.mutation(child2)\n",
    "                self.next_population_list.append(child1)\n",
    "                self.next_population_list.append(child2)\n",
    "            self.population = self.next_population_list # update population into next generation\n",
    "            self.next_population_list = list() # clean next population list\n",
    "            self.cal_cost_list()\n",
    "            self.generationNum += 1\n",
    "            end_time = time.time()\n",
    "            if self.max_time != 0: # checking if time of running setted\n",
    "                if end_time - start_time >= self.max_time: # check if have reach setted running time\n",
    "                    break\n",
    "        \n",
    "        cost, pop = self.sort_cost_pop_list()\n",
    "        self.min_cost_list.append(cost[0])\n",
    "        self.min_pop_list.append(pop[0])\n",
    "        min_cost = self.min_cost_list[-1]\n",
    "        min_pop = self.min_pop_list[-1]\n",
    "        print('=====================Finishing===========================')\n",
    "        self.clean()\n",
    "        \n",
    "        return (min_cost, min_pop, end_time-start_time, self.generationNum)\n",
    "        \n",
    "    def clean(self): # when finish, set augment to initial state, for user to run ag again.\n",
    "        self.generationNum = 0\n",
    "        self.population = list()\n",
    "        self.cost_list = list()\n",
    "        self.prob_list = list()\n",
    "        self.min_cost_list = list()\n",
    "        self.min_pop_list = list()\n",
    "        \n",
    "    def get_board(self, row_list): # form a numpy-array\n",
    "        board = np.zeros((self.dim, self.dim)).astype(int)\n",
    "        for i in range(len(self.init_col_list)):\n",
    "            row = row_list[i]\n",
    "            col = self.init_col_list[i]\n",
    "            board[row][col] = self.weight_list[i]\n",
    "        return board"
   ]
  },
  {
   "cell_type": "code",
   "execution_count": 3,
   "id": "b1441142-a08d-47d3-a0ff-60f1e13ffdce",
   "metadata": {},
   "outputs": [
    {
     "name": "stdout",
     "output_type": "stream",
     "text": [
      "loaded\n",
      "[[0 4 0 0 2 0 0 0]\n",
      " [0 0 0 0 0 0 0 0]\n",
      " [0 0 0 0 0 5 0 5]\n",
      " [4 0 0 6 0 0 0 0]\n",
      " [0 0 0 0 0 0 0 0]\n",
      " [0 0 0 0 0 0 0 0]\n",
      " [0 0 0 0 0 0 0 0]\n",
      " [0 0 8 0 1 0 5 0]]\n"
     ]
    }
   ],
   "source": [
    "test = HeavyQueen9N8(file_name = 'test.txt')\n",
    "board = test.init_board()\n",
    "print(board)"
   ]
  },
  {
   "cell_type": "code",
   "execution_count": 30,
   "id": "217d83e8-ec8b-4fab-aee0-4c87b133a366",
   "metadata": {},
   "outputs": [],
   "source": [
    "GA_test = genetic_algo(board)"
   ]
  },
  {
   "cell_type": "code",
   "execution_count": 31,
   "id": "d99ee59a-5dc4-4073-85fa-7b75ff6bded4",
   "metadata": {},
   "outputs": [
    {
     "name": "stdout",
     "output_type": "stream",
     "text": [
      "=====================Initializing===========================\n",
      "=====================Finishing===========================\n"
     ]
    }
   ],
   "source": [
    "cost, population, times, gen_num = GA_test.processing()"
   ]
  },
  {
   "cell_type": "code",
   "execution_count": 32,
   "id": "b68ee6ba-cdf0-4f2c-be0b-6c1bf596d100",
   "metadata": {},
   "outputs": [
    {
     "data": {
      "text/plain": [
       "[4, 0, 7, 3, 0, 6, 2, 7, 1]"
      ]
     },
     "execution_count": 32,
     "metadata": {},
     "output_type": "execute_result"
    }
   ],
   "source": [
    "population"
   ]
  },
  {
   "cell_type": "code",
   "execution_count": 33,
   "id": "ff0c111d-c658-411c-a987-1fbfac4b7ae6",
   "metadata": {},
   "outputs": [
    {
     "data": {
      "text/plain": [
       "342.0"
      ]
     },
     "execution_count": 33,
     "metadata": {},
     "output_type": "execute_result"
    }
   ],
   "source": [
    "cost"
   ]
  },
  {
   "cell_type": "code",
   "execution_count": 34,
   "id": "3e16279c-0fe1-4b2c-a576-b9ed6a947702",
   "metadata": {},
   "outputs": [
    {
     "data": {
      "text/plain": [
       "array([[0, 4, 0, 0, 2, 0, 0, 0],\n",
       "       [0, 0, 0, 0, 0, 0, 0, 5],\n",
       "       [0, 0, 0, 0, 0, 5, 0, 0],\n",
       "       [0, 0, 0, 6, 0, 0, 0, 0],\n",
       "       [4, 0, 0, 0, 0, 0, 0, 0],\n",
       "       [0, 0, 0, 0, 0, 0, 0, 0],\n",
       "       [0, 0, 0, 0, 1, 0, 0, 0],\n",
       "       [0, 0, 8, 0, 0, 0, 5, 0]])"
      ]
     },
     "execution_count": 34,
     "metadata": {},
     "output_type": "execute_result"
    }
   ],
   "source": [
    "result = GA_test.get_board(population)\n",
    "result"
   ]
  },
  {
   "cell_type": "code",
   "execution_count": 10,
   "id": "6567ec8e-8842-4aad-a2cc-d5cda3e6a7f6",
   "metadata": {},
   "outputs": [],
   "source": [
    "GA_test1 = genetic_algo(board, max_gen = 10000)"
   ]
  },
  {
   "cell_type": "code",
   "execution_count": 11,
   "id": "8ca62e9f-7389-49ab-acb3-b1f09ff34c32",
   "metadata": {},
   "outputs": [
    {
     "name": "stdout",
     "output_type": "stream",
     "text": [
      "=====================Initializing===========================\n",
      "=====================Finishing===========================\n"
     ]
    },
    {
     "data": {
      "text/plain": [
       "(342.0, [4, 0, 7, 3, 0, 6, 2, 7, 1], 54.891287088394165, 0)"
      ]
     },
     "execution_count": 11,
     "metadata": {},
     "output_type": "execute_result"
    }
   ],
   "source": [
    "GA_test1.processing()"
   ]
  },
  {
   "cell_type": "code",
   "execution_count": 8,
   "id": "0942aa85-5a80-4c38-ac05-fc209060ac39",
   "metadata": {},
   "outputs": [],
   "source": [
    "GA_test2 = genetic_algo(board, time = 0.15) # it depends if we luck"
   ]
  },
  {
   "cell_type": "code",
   "execution_count": 9,
   "id": "6da40487-8728-4c02-942d-dbf1dd72d7d6",
   "metadata": {},
   "outputs": [
    {
     "name": "stdout",
     "output_type": "stream",
     "text": [
      "=====================Initializing===========================\n",
      "=====================Finishing===========================\n"
     ]
    },
    {
     "data": {
      "text/plain": [
       "(342.0, [4, 0, 7, 3, 0, 6, 2, 7, 1], 0.15361571311950684, 0)"
      ]
     },
     "execution_count": 9,
     "metadata": {},
     "output_type": "execute_result"
    }
   ],
   "source": [
    "GA_test2.processing()"
   ]
  }
 ],
 "metadata": {
  "kernelspec": {
   "display_name": "Python 3 (ipykernel)",
   "language": "python",
   "name": "python3"
  },
  "language_info": {
   "codemirror_mode": {
    "name": "ipython",
    "version": 3
   },
   "file_extension": ".py",
   "mimetype": "text/x-python",
   "name": "python",
   "nbconvert_exporter": "python",
   "pygments_lexer": "ipython3",
   "version": "3.8.10"
  }
 },
 "nbformat": 4,
 "nbformat_minor": 5
}